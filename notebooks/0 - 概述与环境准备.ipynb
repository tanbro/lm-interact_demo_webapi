{
 "cells": [
  {
   "cell_type": "markdown",
   "metadata": {},
   "source": [
    "# 概述与环境准备"
   ]
  },
  {
   "cell_type": "markdown",
   "metadata": {},
   "source": [
    "我们利用来自 (huggingface)[https://huggingface.co/] 的 [transfer-learning-conv-ai](https://github.com/huggingface/transfer-learning-conv-ai)\n",
    "\n",
    "基于经过 [pytorch-transformers](https://github.com/huggingface/transformers) 包装和改装的 [GPT2](https://github.com/openai/gpt-2) 进行多轮机器对话"
   ]
  },
  {
   "cell_type": "markdown",
   "metadata": {
    "toc-hr-collapsed": false
   },
   "source": [
    "## Conda 环境\n",
    "\n",
    "在 Conda 环境中执行"
   ]
  },
  {
   "cell_type": "markdown",
   "metadata": {},
   "source": [
    "### 新建 Conda 环境\n",
    "\n",
    "准备 Conda 环境，命名为 `transfer-learning-conv-ai`\n",
    "\n",
    "**如果 Conda 环境已经存在，不要重复创建！**"
   ]
  },
  {
   "cell_type": "code",
   "execution_count": 1,
   "metadata": {
    "collapsed": true,
    "jupyter": {
     "outputs_hidden": true
    }
   },
   "outputs": [
    {
     "name": "stdout",
     "output_type": "stream",
     "text": [
      "Collecting package metadata (current_repodata.json): done\n",
      "Solving environment: done\n",
      "\n",
      "## Package Plan ##\n",
      "\n",
      "  environment location: /home/liuxy/miniconda3/envs/transfer-learning-conv-ai\n",
      "\n",
      "  added / updated specs:\n",
      "    - ipython\n",
      "    - ipywidgets\n",
      "    - nb_conda\n",
      "\n",
      "\n",
      "The following packages will be downloaded:\n",
      "\n",
      "    package                    |            build\n",
      "    ---------------------------|-----------------\n",
      "    prompt_toolkit-3.0.0       |             py_0         237 KB  defaults\n",
      "    pyrsistent-0.15.6          |   py37h7b6447c_0          93 KB  defaults\n",
      "    python-dateutil-2.8.1      |             py_0         224 KB  defaults\n",
      "    setuptools-42.0.1          |           py37_0         670 KB  defaults\n",
      "    ------------------------------------------------------------\n",
      "                                           Total:         1.2 MB\n",
      "\n",
      "The following NEW packages will be INSTALLED:\n",
      "\n",
      "  _libgcc_mutex      anaconda/pkgs/main/linux-64::_libgcc_mutex-0.1-main\n",
      "  attrs              anaconda/pkgs/main/noarch::attrs-19.3.0-py_0\n",
      "  backcall           anaconda/pkgs/main/linux-64::backcall-0.1.0-py37_0\n",
      "  bleach             anaconda/pkgs/main/linux-64::bleach-3.1.0-py37_0\n",
      "  ca-certificates    anaconda/pkgs/main/linux-64::ca-certificates-2019.10.16-0\n",
      "  certifi            anaconda/pkgs/main/linux-64::certifi-2019.9.11-py37_0\n",
      "  decorator          anaconda/pkgs/main/noarch::decorator-4.4.1-py_0\n",
      "  defusedxml         anaconda/pkgs/main/noarch::defusedxml-0.6.0-py_0\n",
      "  entrypoints        anaconda/pkgs/main/linux-64::entrypoints-0.3-py37_0\n",
      "  gmp                anaconda/pkgs/main/linux-64::gmp-6.1.2-h6c8ec71_1\n",
      "  importlib_metadata anaconda/pkgs/main/linux-64::importlib_metadata-0.23-py37_0\n",
      "  ipykernel          anaconda/pkgs/main/linux-64::ipykernel-5.1.3-py37h39e3cac_0\n",
      "  ipython            anaconda/pkgs/main/linux-64::ipython-7.9.0-py37h39e3cac_0\n",
      "  ipython_genutils   anaconda/pkgs/main/linux-64::ipython_genutils-0.2.0-py37_0\n",
      "  ipywidgets         anaconda/pkgs/main/noarch::ipywidgets-7.5.1-py_0\n",
      "  jedi               anaconda/pkgs/main/linux-64::jedi-0.15.1-py37_0\n",
      "  jinja2             anaconda/pkgs/main/noarch::jinja2-2.10.3-py_0\n",
      "  jsonschema         anaconda/pkgs/main/linux-64::jsonschema-3.2.0-py37_0\n",
      "  jupyter_client     anaconda/pkgs/main/linux-64::jupyter_client-5.3.4-py37_0\n",
      "  jupyter_core       anaconda/pkgs/main/linux-64::jupyter_core-4.6.1-py37_0\n",
      "  libedit            anaconda/pkgs/main/linux-64::libedit-3.1.20181209-hc058e9b_0\n",
      "  libffi             anaconda/pkgs/main/linux-64::libffi-3.2.1-hd88cf55_4\n",
      "  libgcc-ng          anaconda/pkgs/main/linux-64::libgcc-ng-9.1.0-hdf63c60_0\n",
      "  libsodium          anaconda/pkgs/main/linux-64::libsodium-1.0.16-h1bed415_0\n",
      "  libstdcxx-ng       anaconda/pkgs/main/linux-64::libstdcxx-ng-9.1.0-hdf63c60_0\n",
      "  markupsafe         anaconda/pkgs/main/linux-64::markupsafe-1.1.1-py37h7b6447c_0\n",
      "  mistune            anaconda/pkgs/main/linux-64::mistune-0.8.4-py37h7b6447c_0\n",
      "  more-itertools     anaconda/pkgs/main/linux-64::more-itertools-7.2.0-py37_0\n",
      "  nb_conda           anaconda/pkgs/main/linux-64::nb_conda-2.2.1-py37_0\n",
      "  nb_conda_kernels   anaconda/pkgs/main/linux-64::nb_conda_kernels-2.2.2-py37_0\n",
      "  nbconvert          anaconda/pkgs/main/linux-64::nbconvert-5.6.1-py37_0\n",
      "  nbformat           anaconda/pkgs/main/linux-64::nbformat-4.4.0-py37_0\n",
      "  ncurses            anaconda/pkgs/main/linux-64::ncurses-6.1-he6710b0_1\n",
      "  notebook           anaconda/pkgs/main/linux-64::notebook-6.0.2-py37_0\n",
      "  openssl            anaconda/pkgs/main/linux-64::openssl-1.1.1d-h7b6447c_3\n",
      "  pandoc             anaconda/pkgs/main/linux-64::pandoc-2.2.3.2-0\n",
      "  pandocfilters      anaconda/pkgs/main/linux-64::pandocfilters-1.4.2-py37_1\n",
      "  parso              anaconda/pkgs/main/noarch::parso-0.5.1-py_0\n",
      "  pexpect            anaconda/pkgs/main/linux-64::pexpect-4.7.0-py37_0\n",
      "  pickleshare        anaconda/pkgs/main/linux-64::pickleshare-0.7.5-py37_0\n",
      "  pip                anaconda/pkgs/main/linux-64::pip-19.3.1-py37_0\n",
      "  prometheus_client  anaconda/pkgs/main/noarch::prometheus_client-0.7.1-py_0\n",
      "  prompt_toolkit     anaconda/pkgs/main/noarch::prompt_toolkit-3.0.0-py_0\n",
      "  ptyprocess         anaconda/pkgs/main/linux-64::ptyprocess-0.6.0-py37_0\n",
      "  pygments           anaconda/pkgs/main/noarch::pygments-2.4.2-py_0\n",
      "  pyrsistent         anaconda/pkgs/main/linux-64::pyrsistent-0.15.6-py37h7b6447c_0\n",
      "  python             anaconda/pkgs/main/linux-64::python-3.7.5-h0371630_0\n",
      "  python-dateutil    anaconda/pkgs/main/noarch::python-dateutil-2.8.1-py_0\n",
      "  pyzmq              anaconda/pkgs/main/linux-64::pyzmq-18.1.0-py37he6710b0_0\n",
      "  readline           anaconda/pkgs/main/linux-64::readline-7.0-h7b6447c_5\n",
      "  send2trash         anaconda/pkgs/main/linux-64::send2trash-1.5.0-py37_0\n",
      "  setuptools         anaconda/pkgs/main/linux-64::setuptools-42.0.1-py37_0\n",
      "  six                anaconda/pkgs/main/linux-64::six-1.13.0-py37_0\n",
      "  sqlite             anaconda/pkgs/main/linux-64::sqlite-3.30.1-h7b6447c_0\n",
      "  terminado          anaconda/pkgs/main/linux-64::terminado-0.8.3-py37_0\n",
      "  testpath           anaconda/pkgs/main/noarch::testpath-0.4.4-py_0\n",
      "  tk                 anaconda/pkgs/main/linux-64::tk-8.6.8-hbc83047_0\n",
      "  tornado            anaconda/pkgs/main/linux-64::tornado-6.0.3-py37h7b6447c_0\n",
      "  traitlets          anaconda/pkgs/main/linux-64::traitlets-4.3.3-py37_0\n",
      "  wcwidth            anaconda/pkgs/main/linux-64::wcwidth-0.1.7-py37_0\n",
      "  webencodings       anaconda/pkgs/main/linux-64::webencodings-0.5.1-py37_1\n",
      "  wheel              anaconda/pkgs/main/linux-64::wheel-0.33.6-py37_0\n",
      "  widgetsnbextension anaconda/pkgs/main/linux-64::widgetsnbextension-3.5.1-py37_0\n",
      "  xz                 anaconda/pkgs/main/linux-64::xz-5.2.4-h14c3975_4\n",
      "  zeromq             anaconda/pkgs/main/linux-64::zeromq-4.3.1-he6710b0_3\n",
      "  zipp               anaconda/pkgs/main/noarch::zipp-0.6.0-py_0\n",
      "  zlib               anaconda/pkgs/main/linux-64::zlib-1.2.11-h7b6447c_3\n",
      "\n",
      "\n",
      "\n",
      "Downloading and Extracting Packages\n",
      "prompt_toolkit-3.0.0 | 237 KB    | ##################################### | 100% \n",
      "python-dateutil-2.8. | 224 KB    | ##################################### | 100% \n",
      "pyrsistent-0.15.6    | 93 KB     | ##################################### | 100% \n",
      "setuptools-42.0.1    | 670 KB    | ##################################### | 100% \n",
      "Preparing transaction: done\n",
      "Verifying transaction: done\n",
      "Executing transaction: \\ b'Enabling nb_conda_kernels...\\nStatus: enabled\\n'\n",
      "- b'Enabling notebook extension nb_conda/main...\\n      - Validating: \\x1b[32mOK\\x1b[0m\\nEnabling tree extension nb_conda/tree...\\n      - Validating: \\x1b[32mOK\\x1b[0m\\nEnabling: nb_conda\\n- Writing config: /home/liuxy/miniconda3/envs/transfer-learning-conv-ai/etc/jupyter\\n    - Validating...\\n      nb_conda 2.2.1 \\x1b[32mOK\\x1b[0m\\n'\n",
      "done\n",
      "#\n",
      "# To activate this environment, use\n",
      "#\n",
      "#     $ conda activate transfer-learning-conv-ai\n",
      "#\n",
      "# To deactivate an active environment, use\n",
      "#\n",
      "#     $ conda deactivate\n",
      "\n",
      "\n",
      "Note: you may need to restart the kernel to use updated packages.\n"
     ]
    }
   ],
   "source": [
    "%conda create --yes --name transfer-learning-conv-ai ipython ipywidgets nb_conda"
   ]
  },
  {
   "cell_type": "markdown",
   "metadata": {},
   "source": [
    "### 指定笔记本的 Kernel 为上述 Conda 环境\n",
    "\n",
    "现在，指定该笔记本的 Kernel 为上述 Conda 环境。\n",
    "\n",
    "**这个目录中的其它笔记本，也都应使用上述的 Conda 环境所在 Kernel。**"
   ]
  },
  {
   "cell_type": "markdown",
   "metadata": {
    "toc-hr-collapsed": false
   },
   "source": [
    "### 安装依赖软件包"
   ]
  },
  {
   "cell_type": "markdown",
   "metadata": {},
   "source": [
    "#### CUDA 相关软件包\n",
    "\n",
    "如 PyTorch, TensorFlow 等，应根据 GPU 和 CUDA 的情况选择不同的版本"
   ]
  },
  {
   "cell_type": "markdown",
   "metadata": {},
   "source": [
    "检查 CUDA 版本："
   ]
  },
  {
   "cell_type": "code",
   "execution_count": 2,
   "metadata": {},
   "outputs": [
    {
     "name": "stdout",
     "output_type": "stream",
     "text": [
      "CUDA VERSION: CUDA Version 10.0.130\n",
      "MAYOR.MINOR: 10.0\n"
     ]
    }
   ],
   "source": [
    "cuda_version_file = '/usr/local/cuda/version.txt'\n",
    "with open(cuda_version_file) as fp:\n",
    "    cuda_version_text = fp.read().strip()\n",
    "print(f'CUDA VERSION: {cuda_version_text}')\n",
    "\n",
    "cuda_version_mayor_minor = '.'.join(cuda_version_text.split()[-1].split('.')[:2])\n",
    "print(f'MAYOR.MINOR: {cuda_version_mayor_minor}')"
   ]
  },
  {
   "cell_type": "markdown",
   "metadata": {},
   "source": [
    "执行 conda 安装："
   ]
  },
  {
   "cell_type": "code",
   "execution_count": 6,
   "metadata": {
    "collapsed": true,
    "jupyter": {
     "outputs_hidden": true
    }
   },
   "outputs": [
    {
     "name": "stdout",
     "output_type": "stream",
     "text": [
      "Collecting package metadata (current_repodata.json): done\n",
      "Solving environment: done\n",
      "\n",
      "## Package Plan ##\n",
      "\n",
      "  environment location: /home/liuxy/miniconda3/envs/transfer-learning-conv-ai\n",
      "\n",
      "  added / updated specs:\n",
      "    - cudatoolkit=10.0\n",
      "    - pytorch::ignite\n",
      "    - pytorch::pytorch\n",
      "    - pytorch::torchvision\n",
      "    - tensorboardx\n",
      "    - tensorflow\n",
      "\n",
      "\n",
      "The following packages will be downloaded:\n",
      "\n",
      "    package                    |            build\n",
      "    ---------------------------|-----------------\n",
      "    protobuf-3.10.1            |   py37he6710b0_0         708 KB  defaults\n",
      "    ------------------------------------------------------------\n",
      "                                           Total:         708 KB\n",
      "\n",
      "The following NEW packages will be INSTALLED:\n",
      "\n",
      "  _tflow_select      anaconda/pkgs/main/linux-64::_tflow_select-2.3.0-mkl\n",
      "  absl-py            anaconda/pkgs/main/linux-64::absl-py-0.8.1-py37_0\n",
      "  astor              anaconda/pkgs/main/linux-64::astor-0.8.0-py37_0\n",
      "  blas               anaconda/pkgs/main/linux-64::blas-1.0-mkl\n",
      "  c-ares             anaconda/pkgs/main/linux-64::c-ares-1.15.0-h7b6447c_1001\n",
      "  cffi               anaconda/pkgs/main/linux-64::cffi-1.13.2-py37h2e261b9_0\n",
      "  cudatoolkit        anaconda/pkgs/main/linux-64::cudatoolkit-10.0.130-0\n",
      "  freetype           anaconda/pkgs/main/linux-64::freetype-2.9.1-h8a8886c_1\n",
      "  gast               anaconda/pkgs/main/linux-64::gast-0.2.2-py37_0\n",
      "  google-pasta       anaconda/pkgs/main/noarch::google-pasta-0.1.8-py_0\n",
      "  grpcio             anaconda/pkgs/main/linux-64::grpcio-1.16.1-py37hf8bcb03_1\n",
      "  h5py               anaconda/pkgs/main/linux-64::h5py-2.9.0-py37h7918eee_0\n",
      "  hdf5               anaconda/pkgs/main/linux-64::hdf5-1.10.4-hb1b8bf9_0\n",
      "  ignite             pytorch/linux-64::ignite-0.2.1-py37_0\n",
      "  intel-openmp       anaconda/pkgs/main/linux-64::intel-openmp-2019.4-243\n",
      "  jpeg               anaconda/pkgs/main/linux-64::jpeg-9b-h024ee3a_2\n",
      "  keras-applications anaconda/pkgs/main/noarch::keras-applications-1.0.8-py_0\n",
      "  keras-preprocessi~ anaconda/pkgs/main/noarch::keras-preprocessing-1.1.0-py_1\n",
      "  libgfortran-ng     anaconda/pkgs/main/linux-64::libgfortran-ng-7.3.0-hdf63c60_0\n",
      "  libpng             anaconda/pkgs/main/linux-64::libpng-1.6.37-hbc83047_0\n",
      "  libprotobuf        anaconda/pkgs/main/linux-64::libprotobuf-3.10.1-hd408876_0\n",
      "  libtiff            anaconda/pkgs/main/linux-64::libtiff-4.1.0-h2733197_0\n",
      "  markdown           anaconda/pkgs/main/linux-64::markdown-3.1.1-py37_0\n",
      "  mkl                anaconda/pkgs/main/linux-64::mkl-2019.4-243\n",
      "  mkl-service        anaconda/pkgs/main/linux-64::mkl-service-2.3.0-py37he904b0f_0\n",
      "  mkl_fft            anaconda/pkgs/main/linux-64::mkl_fft-1.0.15-py37ha843d7b_0\n",
      "  mkl_random         anaconda/pkgs/main/linux-64::mkl_random-1.1.0-py37hd6b4f25_0\n",
      "  ninja              anaconda/pkgs/main/linux-64::ninja-1.9.0-py37hfd86e86_0\n",
      "  numpy              anaconda/pkgs/main/linux-64::numpy-1.17.4-py37hc1035e2_0\n",
      "  numpy-base         anaconda/pkgs/main/linux-64::numpy-base-1.17.4-py37hde5b4d6_0\n",
      "  olefile            anaconda/pkgs/main/linux-64::olefile-0.46-py37_0\n",
      "  opt_einsum         anaconda/pkgs/main/noarch::opt_einsum-3.1.0-py_0\n",
      "  pillow             anaconda/pkgs/main/linux-64::pillow-6.2.1-py37h34e0f95_0\n",
      "  protobuf           anaconda/pkgs/main/linux-64::protobuf-3.10.1-py37he6710b0_0\n",
      "  pycparser          anaconda/pkgs/main/linux-64::pycparser-2.19-py37_0\n",
      "  pytorch            pytorch/linux-64::pytorch-1.3.1-py3.7_cuda10.0.130_cudnn7.6.3_0\n",
      "  scipy              anaconda/pkgs/main/linux-64::scipy-1.3.1-py37h7c811a0_0\n",
      "  tensorboard        anaconda/pkgs/main/noarch::tensorboard-2.0.0-pyhb38c66f_1\n",
      "  tensorboardx       conda-forge/noarch::tensorboardx-1.9-py_0\n",
      "  tensorflow         anaconda/pkgs/main/linux-64::tensorflow-2.0.0-mkl_py37h66b46cc_0\n",
      "  tensorflow-base    anaconda/pkgs/main/linux-64::tensorflow-base-2.0.0-mkl_py37h9204916_0\n",
      "  tensorflow-estima~ anaconda/pkgs/main/noarch::tensorflow-estimator-2.0.0-pyh2649769_0\n",
      "  termcolor          anaconda/pkgs/main/linux-64::termcolor-1.1.0-py37_1\n",
      "  torchvision        pytorch/linux-64::torchvision-0.4.2-py37_cu100\n",
      "  werkzeug           anaconda/pkgs/main/noarch::werkzeug-0.16.0-py_0\n",
      "  wrapt              anaconda/pkgs/main/linux-64::wrapt-1.11.2-py37h7b6447c_0\n",
      "  zstd               anaconda/pkgs/main/linux-64::zstd-1.3.7-h0b5b093_0\n",
      "\n",
      "\n",
      "\n",
      "Downloading and Extracting Packages\n",
      "protobuf-3.10.1      | 708 KB    | ##################################### | 100% \n",
      "Preparing transaction: done\n",
      "Verifying transaction: done\n",
      "Executing transaction: done\n",
      "\n",
      "Note: you may need to restart the kernel to use updated packages.\n"
     ]
    }
   ],
   "source": [
    "%conda install --yes -c defaults -c conda-forge -c pytorch tensorflow pytorch::pytorch pytorch::torchvision cudatoolkit={cuda_version_mayor_minor} pytorch::ignite tensorboardX"
   ]
  },
  {
   "cell_type": "markdown",
   "metadata": {},
   "source": [
    "### 其它基础软件包"
   ]
  },
  {
   "cell_type": "code",
   "execution_count": 7,
   "metadata": {
    "collapsed": true,
    "jupyter": {
     "outputs_hidden": true
    }
   },
   "outputs": [
    {
     "name": "stdout",
     "output_type": "stream",
     "text": [
      "Collecting package metadata (current_repodata.json): done\n",
      "Solving environment: done\n",
      "\n",
      "## Package Plan ##\n",
      "\n",
      "  environment location: /home/liuxy/miniconda3/envs/transfer-learning-conv-ai\n",
      "\n",
      "  added / updated specs:\n",
      "    - boto3\n",
      "    - regex\n",
      "    - requests\n",
      "    - sacremoses\n",
      "    - tqdm\n",
      "\n",
      "\n",
      "The following packages will be downloaded:\n",
      "\n",
      "    package                    |            build\n",
      "    ---------------------------|-----------------\n",
      "    joblib-0.14.0              |             py_0         201 KB  defaults\n",
      "    sacremoses-0.0.35          |             py_0         448 KB  conda-forge\n",
      "    tqdm-4.39.0                |             py_0          52 KB  defaults\n",
      "    ------------------------------------------------------------\n",
      "                                           Total:         701 KB\n",
      "\n",
      "The following NEW packages will be INSTALLED:\n",
      "\n",
      "  asn1crypto         anaconda/pkgs/main/linux-64::asn1crypto-1.2.0-py37_0\n",
      "  boto3              anaconda/pkgs/main/noarch::boto3-1.9.234-py_0\n",
      "  botocore           anaconda/pkgs/main/noarch::botocore-1.12.234-py_0\n",
      "  chardet            anaconda/pkgs/main/linux-64::chardet-3.0.4-py37_1003\n",
      "  click              anaconda/pkgs/main/linux-64::click-7.0-py37_0\n",
      "  cryptography       anaconda/pkgs/main/linux-64::cryptography-2.8-py37h1ba5d50_0\n",
      "  docutils           anaconda/pkgs/main/linux-64::docutils-0.15.2-py37_0\n",
      "  idna               anaconda/pkgs/main/linux-64::idna-2.8-py37_0\n",
      "  jmespath           anaconda/pkgs/main/noarch::jmespath-0.9.4-py_0\n",
      "  joblib             anaconda/pkgs/main/noarch::joblib-0.14.0-py_0\n",
      "  pyopenssl          anaconda/pkgs/main/linux-64::pyopenssl-19.1.0-py37_0\n",
      "  pysocks            anaconda/pkgs/main/linux-64::pysocks-1.7.1-py37_0\n",
      "  regex              anaconda/pkgs/main/linux-64::regex-2019.11.1-py37h7b6447c_0\n",
      "  requests           anaconda/pkgs/main/linux-64::requests-2.22.0-py37_0\n",
      "  s3transfer         anaconda/pkgs/main/linux-64::s3transfer-0.2.1-py37_0\n",
      "  sacremoses         conda-forge/noarch::sacremoses-0.0.35-py_0\n",
      "  tqdm               anaconda/pkgs/main/noarch::tqdm-4.39.0-py_0\n",
      "  urllib3            anaconda/pkgs/main/linux-64::urllib3-1.24.2-py37_0\n",
      "\n",
      "\n",
      "\n",
      "Downloading and Extracting Packages\n",
      "tqdm-4.39.0          | 52 KB     | ##################################### | 100% \n",
      "sacremoses-0.0.35    | 448 KB    | ##################################### | 100% \n",
      "joblib-0.14.0        | 201 KB    | ##################################### | 100% \n",
      "Preparing transaction: done\n",
      "Verifying transaction: done\n",
      "Executing transaction: done\n",
      "\n",
      "Note: you may need to restart the kernel to use updated packages.\n"
     ]
    }
   ],
   "source": [
    "%conda install --yes -c defaults -c conda-forge boto3 requests tqdm regex sacremoses"
   ]
  },
  {
   "cell_type": "code",
   "execution_count": 8,
   "metadata": {
    "collapsed": true,
    "jupyter": {
     "outputs_hidden": true
    }
   },
   "outputs": [
    {
     "name": "stdout",
     "output_type": "stream",
     "text": [
      "Looking in indexes: https://mirrors.aliyun.com/pypi/simple\n",
      "Collecting sentencepiece\n",
      "  Using cached https://mirrors.aliyun.com/pypi/packages/e8/cf/7089b87fdae8f47be81ce8e2e6377b321805c4648f2eb12fbd2987388dac/sentencepiece-0.1.83-cp37-cp37m-manylinux1_x86_64.whl\n",
      "Installing collected packages: sentencepiece\n",
      "Successfully installed sentencepiece-0.1.83\n",
      "Note: you may need to restart the kernel to use updated packages.\n"
     ]
    }
   ],
   "source": [
    "%pip install sentencepiece"
   ]
  },
  {
   "cell_type": "markdown",
   "metadata": {},
   "source": [
    "### 安装 huggingface 的 pytorch-transformers\n",
    "\n",
    "[transfer-learning-conv-ai](https://github.com/huggingface/transfer-learning-conv-ai) 依赖于 [pytorch-transformers](https://github.com/huggingface/transformers)，且我们对 [pytorch-transformers](https://github.com/huggingface/transformers) 进行了小幅度的修改，所以，需要从我们自己的代码安装这个包："
   ]
  },
  {
   "cell_type": "code",
   "execution_count": 1,
   "metadata": {
    "collapsed": true,
    "jupyter": {
     "outputs_hidden": true
    }
   },
   "outputs": [
    {
     "name": "stdout",
     "output_type": "stream",
     "text": [
      "Looking in indexes: https://mirrors.aliyun.com/pypi/simple\n",
      "Obtaining file:///home/kangzh/transformers\n",
      "Requirement already satisfied: numpy in /home/liuxy/miniconda3/envs/transfer-learning-conv-ai/lib/python3.7/site-packages (from transformers==2.0.0) (1.17.4)\n",
      "Requirement already satisfied: boto3 in /home/liuxy/miniconda3/envs/transfer-learning-conv-ai/lib/python3.7/site-packages (from transformers==2.0.0) (1.9.234)\n",
      "Requirement already satisfied: requests in /home/liuxy/miniconda3/envs/transfer-learning-conv-ai/lib/python3.7/site-packages (from transformers==2.0.0) (2.22.0)\n",
      "Requirement already satisfied: tqdm in /home/liuxy/miniconda3/envs/transfer-learning-conv-ai/lib/python3.7/site-packages (from transformers==2.0.0) (4.39.0)\n",
      "Requirement already satisfied: regex in /home/liuxy/miniconda3/envs/transfer-learning-conv-ai/lib/python3.7/site-packages (from transformers==2.0.0) (2019.11.1)\n",
      "Requirement already satisfied: sentencepiece in /home/liuxy/miniconda3/envs/transfer-learning-conv-ai/lib/python3.7/site-packages (from transformers==2.0.0) (0.1.83)\n",
      "Requirement already satisfied: sacremoses in /home/liuxy/miniconda3/envs/transfer-learning-conv-ai/lib/python3.7/site-packages (from transformers==2.0.0) (0.0.35)\n",
      "Requirement already satisfied: s3transfer<0.3.0,>=0.2.0 in /home/liuxy/miniconda3/envs/transfer-learning-conv-ai/lib/python3.7/site-packages (from boto3->transformers==2.0.0) (0.2.1)\n",
      "Requirement already satisfied: jmespath<1.0.0,>=0.7.1 in /home/liuxy/miniconda3/envs/transfer-learning-conv-ai/lib/python3.7/site-packages (from boto3->transformers==2.0.0) (0.9.4)\n",
      "Requirement already satisfied: botocore<1.13.0,>=1.12.234 in /home/liuxy/miniconda3/envs/transfer-learning-conv-ai/lib/python3.7/site-packages (from boto3->transformers==2.0.0) (1.12.234)\n",
      "Requirement already satisfied: urllib3!=1.25.0,!=1.25.1,<1.26,>=1.21.1 in /home/liuxy/miniconda3/envs/transfer-learning-conv-ai/lib/python3.7/site-packages (from requests->transformers==2.0.0) (1.24.2)\n",
      "Requirement already satisfied: idna<2.9,>=2.5 in /home/liuxy/miniconda3/envs/transfer-learning-conv-ai/lib/python3.7/site-packages (from requests->transformers==2.0.0) (2.8)\n",
      "Requirement already satisfied: certifi>=2017.4.17 in /home/liuxy/miniconda3/envs/transfer-learning-conv-ai/lib/python3.7/site-packages (from requests->transformers==2.0.0) (2019.9.11)\n",
      "Requirement already satisfied: chardet<3.1.0,>=3.0.2 in /home/liuxy/miniconda3/envs/transfer-learning-conv-ai/lib/python3.7/site-packages (from requests->transformers==2.0.0) (3.0.4)\n",
      "Requirement already satisfied: six in /home/liuxy/miniconda3/envs/transfer-learning-conv-ai/lib/python3.7/site-packages (from sacremoses->transformers==2.0.0) (1.13.0)\n",
      "Requirement already satisfied: joblib in /home/liuxy/miniconda3/envs/transfer-learning-conv-ai/lib/python3.7/site-packages (from sacremoses->transformers==2.0.0) (0.14.0)\n",
      "Requirement already satisfied: click in /home/liuxy/miniconda3/envs/transfer-learning-conv-ai/lib/python3.7/site-packages (from sacremoses->transformers==2.0.0) (7.0)\n",
      "Requirement already satisfied: docutils<0.16,>=0.10 in /home/liuxy/miniconda3/envs/transfer-learning-conv-ai/lib/python3.7/site-packages (from botocore<1.13.0,>=1.12.234->boto3->transformers==2.0.0) (0.15.2)\n",
      "Requirement already satisfied: python-dateutil<3.0.0,>=2.1 in /home/liuxy/miniconda3/envs/transfer-learning-conv-ai/lib/python3.7/site-packages (from botocore<1.13.0,>=1.12.234->boto3->transformers==2.0.0) (2.8.1)\n",
      "Installing collected packages: transformers\n",
      "  Running setup.py develop for transformers\n",
      "Successfully installed transformers\n",
      "Note: you may need to restart the kernel to use updated packages.\n"
     ]
    }
   ],
   "source": [
    "%pip install -e /home/kangzh/transformers"
   ]
  },
  {
   "cell_type": "markdown",
   "metadata": {},
   "source": [
    "### 重启 Kernel\n",
    "\n",
    "Note: you may need to restart the kernel to use updated packages."
   ]
  },
  {
   "cell_type": "markdown",
   "metadata": {},
   "source": [
    "## 执行 transfer-learning-conv-ai 项目中的程序\n",
    "\n",
    "同样，我们小幅度修改了 [transfer-learning-conv-ai](https://github.com/huggingface/transfer-learning-conv-ai) 。它可执行程序，而不是“包”的形式存在，我们需要切换到其所在目录。"
   ]
  },
  {
   "cell_type": "markdown",
   "metadata": {},
   "source": [
    "### CD"
   ]
  },
  {
   "cell_type": "code",
   "execution_count": 1,
   "metadata": {},
   "outputs": [
    {
     "name": "stdout",
     "output_type": "stream",
     "text": [
      "/home/kangzh/transfer-learning-conv-ai\n"
     ]
    }
   ],
   "source": [
    "%cd /home/kangzh/transfer-learning-conv-ai"
   ]
  },
  {
   "cell_type": "markdown",
   "metadata": {},
   "source": [
    "### Interact"
   ]
  },
  {
   "cell_type": "code",
   "execution_count": null,
   "metadata": {},
   "outputs": [
    {
     "name": "stderr",
     "output_type": "stream",
     "text": [
      "To use data.metrics please install scikit-learn. See https://scikit-learn.org/stable/index.html\n",
      "INFO:/home/kangzh/transfer-learning-conv-ai/interact.py:Namespace(dataset_cache='./dataset_cache_GPT2Tokenizer_cn/cache', dataset_path='', device='cuda', max_history=2, max_length=1000, min_length=125, model_checkpoint='./model_checkpoint_117', model_type='gpt2_cn', no_sample=False, seed=42, temperature=0.6, top_k=0, top_p=0.9)\n",
      "INFO:/home/kangzh/transfer-learning-conv-ai/interact.py:Get pretrained model and tokenizer\n",
      "INFO:/home/kangzh/transfer-learning-conv-ai/interact.py:load tokenizer....\n",
      "\n",
      "INFO:transformers.tokenization_utils:Model name './model_checkpoint_117' not found in model shortcut name list (). Assuming './model_checkpoint_117' is a path or url to a directory containing tokenizer files.\n",
      "INFO:transformers.tokenization_utils:Didn't find file ./model_checkpoint_117/merges.txt. We won't load it.\n",
      "INFO:transformers.tokenization_utils:Didn't find file ./model_checkpoint_117/added_tokens.json. We won't load it.\n",
      "INFO:transformers.tokenization_utils:Didn't find file ./model_checkpoint_117/special_tokens_map.json. We won't load it.\n",
      "INFO:transformers.tokenization_utils:Didn't find file ./model_checkpoint_117/tokenizer_config.json. We won't load it.\n",
      "INFO:transformers.tokenization_utils:loading file ./model_checkpoint_117/gpt2_huamei_corpus_bpe_32k_v2.model\n",
      "INFO:transformers.tokenization_utils:loading file None\n",
      "INFO:transformers.tokenization_utils:loading file None\n",
      "INFO:transformers.tokenization_utils:loading file None\n",
      "INFO:transformers.tokenization_utils:loading file None\n",
      "INFO:/home/kangzh/transfer-learning-conv-ai/interact.py:load model....\n",
      "\n",
      "INFO:transformers.configuration_utils:loading configuration file ./model_checkpoint_117/config.json\n",
      "INFO:transformers.configuration_utils:Model config {\n",
      "  \"attn_pdrop\": 0.1,\n",
      "  \"embd_pdrop\": 0.1,\n",
      "  \"finetuning_task\": null,\n",
      "  \"initializer_range\": 0.02,\n",
      "  \"layer_norm_epsilon\": 1e-05,\n",
      "  \"n_ctx\": 1024,\n",
      "  \"n_embd\": 768,\n",
      "  \"n_head\": 12,\n",
      "  \"n_layer\": 12,\n",
      "  \"n_positions\": 1024,\n",
      "  \"num_labels\": 1,\n",
      "  \"output_attentions\": false,\n",
      "  \"output_hidden_states\": false,\n",
      "  \"pruned_heads\": {},\n",
      "  \"resid_pdrop\": 0.1,\n",
      "  \"summary_activation\": null,\n",
      "  \"summary_first_dropout\": 0.1,\n",
      "  \"summary_proj_to_labels\": true,\n",
      "  \"summary_type\": \"cls_index\",\n",
      "  \"summary_use_proj\": true,\n",
      "  \"torchscript\": false,\n",
      "  \"use_bfloat16\": false,\n",
      "  \"vocab_size\": 32128\n",
      "}\n",
      "\n",
      "INFO:transformers.modeling_utils:loading weights file ./model_checkpoint_117/pytorch_model.bin\n",
      "INFO:transformers.tokenization_utils:Adding <speaker1> to the vocabulary\n",
      "INFO:transformers.tokenization_utils:Adding <speaker2> to the vocabulary\n",
      "INFO:transformers.tokenization_utils:Assigning ('<speaker1>', '<speaker2>') to the additional_special_tokens key of the tokenizer\n",
      "INFO:/home/kangzh/transfer-learning-conv-ai/interact.py:Sample a personality\n",
      "INFO:/home/kangzh/transfer-learning-conv-ai/utils.py:Load tokenized dataset from cache at ./dataset_cache_GPT2Tokenizer_cn/cache_GPT2Tokenizer_cn\n",
      "INFO:/home/kangzh/transfer-learning-conv-ai/utils.py:Filter personalities\n",
      "INFO:/home/kangzh/transfer-learning-conv-ai/utils.py:Gathered 2 personalities\n",
      "INFO:/home/kangzh/transfer-learning-conv-ai/interact.py:Selected personality: ▁我是一名心理咨询师。\n"
     ]
    },
    {
     "name": "stdin",
     "output_type": "stream",
     "text": [
      ">>>  哦哦\n"
     ]
    },
    {
     "name": "stderr",
     "output_type": "stream",
     "text": [
      "/home/kangzh/transfer-learning-conv-ai/interact.py:98: UserWarning: Warning: model generating special token with probability 1.\n",
      "  warnings.warn(\"Warning: model generating special token with probability 1.\")\n"
     ]
    },
    {
     "name": "stdout",
     "output_type": "stream",
     "text": [
      "▁嗨!你最近有什么烦恼吗?可以发私信给我,我很乐意帮助你哦!\n"
     ]
    },
    {
     "name": "stdin",
     "output_type": "stream",
     "text": [
      ">>>  是这样的，我失眠比较严重，还脱发。\n"
     ]
    },
    {
     "name": "stdout",
     "output_type": "stream",
     "text": [
      "▁你好,我是小媒~给楼主温暖的抱抱~楼主最近的状态确实有点不好,脱发,脱发是正常的,但是楼主可以先去检查一下自己的身体,看看有没有其他的身体不适。如果身体上的不适已经影响到了自己的正常生活,楼主可以先去医院检查一下自己的身体,看看有没有其他的身体不适,如果身体上的不适已经影响到了自己的生活,楼主可以先去医院检查一下自己的身体。祝好~?\n"
     ]
    }
   ],
   "source": [
    "%run interact.py \\\n",
    "    --model_type gpt2_cn \\\n",
    "    --model_checkpoint ./model_checkpoint_117 \\\n",
    "    --dataset_cache ./dataset_cache_GPT2Tokenizer_cn/cache  \\\n",
    "    --min_length 125 \\\n",
    "    --max_length 1000  \\\n",
    "    --temperature 0.6 \\\n",
    "    --top_p 0.9\n"
   ]
  },
  {
   "cell_type": "code",
   "execution_count": null,
   "metadata": {},
   "outputs": [],
   "source": []
  }
 ],
 "metadata": {
  "kernelspec": {
   "display_name": "Python [conda env:transfer-learning-conv-ai]",
   "language": "python",
   "name": "conda-env-transfer-learning-conv-ai-py"
  },
  "language_info": {
   "codemirror_mode": {
    "name": "ipython",
    "version": 3
   },
   "file_extension": ".py",
   "mimetype": "text/x-python",
   "name": "python",
   "nbconvert_exporter": "python",
   "pygments_lexer": "ipython3",
   "version": "3.7.5"
  }
 },
 "nbformat": 4,
 "nbformat_minor": 4
}
